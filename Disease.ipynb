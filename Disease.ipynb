{
 "cells": [
  {
   "cell_type": "code",
   "execution_count": 1,
   "id": "e4a55c81-4eea-4b02-b596-9f259e445760",
   "metadata": {},
   "outputs": [
    {
     "name": "stderr",
     "output_type": "stream",
     "text": [
      "2025-03-10 14:08:02.886 \n",
      "  \u001b[33m\u001b[1mWarning:\u001b[0m to view this Streamlit app on a browser, run it with the following\n",
      "  command:\n",
      "\n",
      "    streamlit run C:\\Users\\cheta\\anaconda3\\Lib\\site-packages\\ipykernel_launcher.py [ARGUMENTS]\n"
     ]
    }
   ],
   "source": [
    "import streamlit as st\n",
    "import pickle\n",
    "import pandas as pd\n",
    "import numpy as np\n",
    "\n",
    "# Load the pre-trained model (best_model.pkl)\n",
    "with open('best_model.pkl', 'rb') as f:\n",
    "    model = pickle.load(f)\n",
    "\n",
    "# Function to make prediction\n",
    "def predict_alzheimers(features):\n",
    "    prediction = model.predict([features])\n",
    "    probability = model.predict_proba([features])[0][1]  # Probability of the positive class (Alzheimer's)\n",
    "    return prediction, probability\n",
    "\n",
    "# Function to clean the data and handle non-numeric values\n",
    "def clean_data(df):\n",
    "    # Convert columns that should be numeric to float, replace invalid values with NaN\n",
    "    df = df.apply(pd.to_numeric, errors='coerce')\n",
    "\n",
    "    # Fill NaN values with the column mean or median (you can customize this)\n",
    "    df = df.fillna(df.mean())\n",
    "\n",
    "    return df\n",
    "\n",
    "# Streamlit app UI\n",
    "st.title(\"Alzheimer's Disease Prediction\")\n",
    "st.write(\"Upload a CSV file and select a patient to predict Alzheimer's Disease.\")\n",
    "\n",
    "# Upload CSV file\n",
    "uploaded_file = st.file_uploader(\"Choose a CSV file\", type=\"csv\")\n",
    "\n",
    "if uploaded_file is not None:\n",
    "    # Read the CSV file\n",
    "    df = pd.read_csv(uploaded_file)\n",
    "\n",
    "    # Display the first few rows of the dataset for the user to inspect\n",
    "    st.write(\"Dataset preview:\")\n",
    "    st.write(df.head())\n",
    "\n",
    "    # Ensure there's a unique identifier column like 'PatientID' or 'Name'\n",
    "    if 'PatientID' in df.columns:\n",
    "        patient_id_column = 'PatientID'\n",
    "    elif 'Name' in df.columns:\n",
    "        patient_id_column = 'Name'\n",
    "    else:\n",
    "        st.error(\"No PatientID or Name column found in the dataset!\")\n",
    "        patient_id_column = None\n",
    "\n",
    "    # If there's a valid patient identifier column, let the user select a patient\n",
    "    if patient_id_column:\n",
    "        patient_id = st.selectbox(\"Select a Patient\", df[patient_id_column].unique())\n",
    "\n",
    "        # Get the row corresponding to the selected patient\n",
    "        selected_patient = df[df[patient_id_column] == patient_id]\n",
    "\n",
    "        # Extract the features for prediction (excluding the target column 'Diagnosis')\n",
    "        features = selected_patient.drop(columns=['Diagnosis'])\n",
    "\n",
    "        # Clean the data by converting all columns to numeric and handling errors\n",
    "        features = clean_data(features)\n",
    "\n",
    "        # Convert the cleaned features to a list of feature values\n",
    "        feature_values = features.iloc[0].values.tolist()\n",
    "\n",
    "        # Predict button\n",
    "        if st.button('Predict'):\n",
    "            prediction, probability = predict_alzheimers(feature_values)\n",
    "            if prediction == 1:\n",
    "                st.write(f\"The patient {patient_id} is predicted to have Alzheimer's disease with a {probability*100:.2f}% chance.\")\n",
    "            else:\n",
    "                st.write(f\"The patient {patient_id} is predicted not to have Alzheimer's disease with a {100 - probability*100:.2f}% chance.\")\n"
   ]
  },
  {
   "cell_type": "code",
   "execution_count": null,
   "id": "bac9a416-67a2-447d-abf0-446fd2f72ff6",
   "metadata": {},
   "outputs": [],
   "source": []
  }
 ],
 "metadata": {
  "kernelspec": {
   "display_name": "Python 3 (ipykernel)",
   "language": "python",
   "name": "python3"
  },
  "language_info": {
   "codemirror_mode": {
    "name": "ipython",
    "version": 3
   },
   "file_extension": ".py",
   "mimetype": "text/x-python",
   "name": "python",
   "nbconvert_exporter": "python",
   "pygments_lexer": "ipython3",
   "version": "3.12.4"
  }
 },
 "nbformat": 4,
 "nbformat_minor": 5
}
